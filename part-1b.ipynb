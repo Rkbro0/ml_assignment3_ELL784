{
 "cells": [
  {
   "cell_type": "code",
   "execution_count": 20,
   "metadata": {},
   "outputs": [],
   "source": [
    "# import tensorflow as tf\n",
    "import seaborn as sns\n",
    "import matplotlib.pyplot as plt\n",
    "import numpy as np\n",
    "import pandas as pd\n",
    "%reload_ext autoreload\n",
    "%autoreload 2\n",
    "import sys\n",
    "sys.path.insert(0,'../utils/')\n",
    "\n",
    "sns.set_style(\"darkgrid\")\n",
    "from sklearn.metrics import confusion_matrix\n"
   ]
  },
  {
   "cell_type": "code",
   "execution_count": 6,
   "metadata": {},
   "outputs": [],
   "source": [
    "def vectorized_result(j):\n",
    "\n",
    "    y = np.zeros((10, 1))\n",
    "    y[j] = 1.0\n",
    "    return y\n",
    "\n",
    "\n",
    "data = pd.read_csv('feat_25.csv', header=None)\n",
    "\n",
    "X = np.array(data.iloc[:, :-1])\n",
    "Y = np.array(data.iloc[:, -1], dtype=np.int32)\n",
    "n = X.shape[0]\n",
    "idx = np.arange(0, len(X))\n",
    "np.random.shuffle(idx)\n",
    "frac = int(0.8*len(X))\n",
    "train_x = np.array([np.reshape(x, (-1, 1)) for x in X[idx[:frac]]])\n",
    "train_y = [vectorized_result(y) for y in Y[idx[:frac]]]\n",
    "train_data = list(zip(train_x, train_y))\n",
    "test_x = np.array([np.reshape(x, (-1, 1)) for x in X[idx[frac:]]])\n",
    "test_y = Y[idx[frac:]]\n",
    "test_data = list(zip(test_x, test_y))"
   ]
  },
  {
   "cell_type": "code",
   "execution_count": 7,
   "metadata": {},
   "outputs": [],
   "source": [
    "train_images = np.array([np.reshape(x, (5, 5)) for x in X[idx[:frac]]])\n",
    "train_labels = np.array(Y[idx[:frac]])\n",
    "test_images = np.array([np.reshape(x, (5, 5)) for x in X[idx[frac:]]])\n",
    "test_labels = np.array(Y[idx[frac:]])"
   ]
  },
  {
   "cell_type": "code",
   "execution_count": 8,
   "metadata": {},
   "outputs": [],
   "source": [
    "from tensorflow import keras"
   ]
  },
  {
   "cell_type": "code",
   "execution_count": 49,
   "metadata": {},
   "outputs": [
    {
     "name": "stdout",
     "output_type": "stream",
     "text": [
      "Epoch 1/25\n",
      "75/75 [==============================] - 1s 4ms/step - loss: 2.3610 - accuracy: 0.1167 - val_loss: 2.2024 - val_accuracy: 0.1717\n",
      "Epoch 2/25\n",
      "75/75 [==============================] - 0s 3ms/step - loss: 2.1002 - accuracy: 0.2658 - val_loss: 1.9845 - val_accuracy: 0.3083\n",
      "Epoch 3/25\n",
      "75/75 [==============================] - 0s 3ms/step - loss: 1.8302 - accuracy: 0.3983 - val_loss: 1.6705 - val_accuracy: 0.4867\n",
      "Epoch 4/25\n",
      "75/75 [==============================] - 0s 3ms/step - loss: 1.4923 - accuracy: 0.5550 - val_loss: 1.3145 - val_accuracy: 0.6450\n",
      "Epoch 5/25\n",
      "75/75 [==============================] - 0s 2ms/step - loss: 1.1566 - accuracy: 0.6750 - val_loss: 0.9979 - val_accuracy: 0.7267\n",
      "Epoch 6/25\n",
      "75/75 [==============================] - 0s 2ms/step - loss: 0.8938 - accuracy: 0.7467 - val_loss: 0.7954 - val_accuracy: 0.7800\n",
      "Epoch 7/25\n",
      "75/75 [==============================] - 0s 3ms/step - loss: 0.7243 - accuracy: 0.8025 - val_loss: 0.6709 - val_accuracy: 0.8117\n",
      "Epoch 8/25\n",
      "75/75 [==============================] - 0s 2ms/step - loss: 0.6228 - accuracy: 0.8275 - val_loss: 0.5917 - val_accuracy: 0.8333\n",
      "Epoch 9/25\n",
      "75/75 [==============================] - 0s 2ms/step - loss: 0.5556 - accuracy: 0.8404 - val_loss: 0.5378 - val_accuracy: 0.8367\n",
      "Epoch 10/25\n",
      "75/75 [==============================] - 0s 2ms/step - loss: 0.5091 - accuracy: 0.8483 - val_loss: 0.5126 - val_accuracy: 0.8383\n",
      "Epoch 11/25\n",
      "75/75 [==============================] - 0s 2ms/step - loss: 0.4739 - accuracy: 0.8612 - val_loss: 0.4872 - val_accuracy: 0.8500\n",
      "Epoch 12/25\n",
      "75/75 [==============================] - 0s 2ms/step - loss: 0.4460 - accuracy: 0.8679 - val_loss: 0.4722 - val_accuracy: 0.8583\n",
      "Epoch 13/25\n",
      "75/75 [==============================] - 0s 2ms/step - loss: 0.4229 - accuracy: 0.8750 - val_loss: 0.4587 - val_accuracy: 0.8633\n",
      "Epoch 14/25\n",
      "75/75 [==============================] - 0s 2ms/step - loss: 0.4042 - accuracy: 0.8817 - val_loss: 0.4530 - val_accuracy: 0.8633\n",
      "Epoch 15/25\n",
      "75/75 [==============================] - 0s 2ms/step - loss: 0.3885 - accuracy: 0.8838 - val_loss: 0.4431 - val_accuracy: 0.8700\n",
      "Epoch 16/25\n",
      "75/75 [==============================] - 0s 2ms/step - loss: 0.3752 - accuracy: 0.8892 - val_loss: 0.4396 - val_accuracy: 0.8717\n",
      "Epoch 17/25\n",
      "75/75 [==============================] - 0s 2ms/step - loss: 0.3629 - accuracy: 0.8875 - val_loss: 0.4318 - val_accuracy: 0.8717\n",
      "Epoch 18/25\n",
      "75/75 [==============================] - 0s 2ms/step - loss: 0.3519 - accuracy: 0.8908 - val_loss: 0.4306 - val_accuracy: 0.8683\n",
      "Epoch 19/25\n",
      "75/75 [==============================] - 0s 2ms/step - loss: 0.3417 - accuracy: 0.8996 - val_loss: 0.4252 - val_accuracy: 0.8717\n",
      "Epoch 20/25\n",
      "75/75 [==============================] - 0s 2ms/step - loss: 0.3309 - accuracy: 0.9008 - val_loss: 0.4160 - val_accuracy: 0.8800\n",
      "Epoch 21/25\n",
      "75/75 [==============================] - 0s 2ms/step - loss: 0.3235 - accuracy: 0.9042 - val_loss: 0.4156 - val_accuracy: 0.8800\n",
      "Epoch 22/25\n",
      "75/75 [==============================] - 0s 2ms/step - loss: 0.3151 - accuracy: 0.9067 - val_loss: 0.4174 - val_accuracy: 0.8767\n",
      "Epoch 23/25\n",
      "75/75 [==============================] - 0s 2ms/step - loss: 0.3068 - accuracy: 0.9083 - val_loss: 0.4100 - val_accuracy: 0.8833\n",
      "Epoch 24/25\n",
      "75/75 [==============================] - 0s 2ms/step - loss: 0.3001 - accuracy: 0.9079 - val_loss: 0.4079 - val_accuracy: 0.8850\n",
      "Epoch 25/25\n",
      "75/75 [==============================] - 0s 2ms/step - loss: 0.2946 - accuracy: 0.9125 - val_loss: 0.4049 - val_accuracy: 0.8900\n"
     ]
    }
   ],
   "source": [
    "model = keras.Sequential([keras.layers.Flatten(input_shape=(5,5)),\n",
    "                          keras.layers.Dense(20, activation='relu'),\n",
    "                          keras.layers.Dense(15, activation='relu'),\n",
    "                          keras.layers.Dense(10, activation='softmax'),\n",
    "                          ])\n",
    "\n",
    "model.compile(optimizer='adam',\n",
    "              loss='sparse_categorical_crossentropy', metrics=['accuracy'])\n",
    "\n",
    "\n",
    "history = model.fit(train_images, train_labels, epochs=25,\n",
    "                    validation_data=(test_images, test_labels))"
   ]
  },
  {
   "cell_type": "code",
   "execution_count": 50,
   "metadata": {},
   "outputs": [
    {
     "data": {
      "text/plain": [
       "dict_keys(['loss', 'accuracy', 'val_loss', 'val_accuracy'])"
      ]
     },
     "execution_count": 50,
     "metadata": {},
     "output_type": "execute_result"
    }
   ],
   "source": [
    "history.history.keys()"
   ]
  },
  {
   "cell_type": "code",
   "execution_count": 51,
   "metadata": {},
   "outputs": [
    {
     "data": {
      "text/plain": [
       "[0.17166666686534882,\n",
       " 0.3083333373069763,\n",
       " 0.4866666793823242,\n",
       " 0.6449999809265137,\n",
       " 0.7266666889190674,\n",
       " 0.7799999713897705,\n",
       " 0.8116666674613953,\n",
       " 0.8333333134651184,\n",
       " 0.8366666436195374,\n",
       " 0.8383333086967468,\n",
       " 0.8500000238418579,\n",
       " 0.8583333492279053,\n",
       " 0.8633333444595337,\n",
       " 0.8633333444595337,\n",
       " 0.8700000047683716,\n",
       " 0.871666669845581,\n",
       " 0.871666669845581,\n",
       " 0.8683333396911621,\n",
       " 0.871666669845581,\n",
       " 0.8799999952316284,\n",
       " 0.8799999952316284,\n",
       " 0.8766666650772095,\n",
       " 0.8833333253860474,\n",
       " 0.8849999904632568,\n",
       " 0.8899999856948853]"
      ]
     },
     "execution_count": 51,
     "metadata": {},
     "output_type": "execute_result"
    }
   ],
   "source": [
    "history.history['val_accuracy']"
   ]
  },
  {
   "cell_type": "code",
   "execution_count": 46,
   "metadata": {},
   "outputs": [
    {
     "data": {
      "text/plain": [
       "[0.18708333373069763,\n",
       " 0.40416666865348816,\n",
       " 0.5537499785423279,\n",
       " 0.668749988079071,\n",
       " 0.7416666746139526,\n",
       " 0.7854166626930237,\n",
       " 0.8125,\n",
       " 0.8412500023841858,\n",
       " 0.856249988079071,\n",
       " 0.8691666722297668,\n",
       " 0.878333330154419,\n",
       " 0.8829166889190674,\n",
       " 0.8883333206176758,\n",
       " 0.89083331823349,\n",
       " 0.8966666460037231,\n",
       " 0.8979166746139526,\n",
       " 0.8999999761581421,\n",
       " 0.8987500071525574,\n",
       " 0.9066666960716248,\n",
       " 0.9070833325386047,\n",
       " 0.9066666960716248,\n",
       " 0.909166693687439,\n",
       " 0.9145833253860474,\n",
       " 0.9154166579246521,\n",
       " 0.9179166555404663,\n",
       " 0.9179166555404663,\n",
       " 0.9204166531562805,\n",
       " 0.9225000143051147,\n",
       " 0.925000011920929,\n",
       " 0.9262499809265137,\n",
       " 0.925000011920929,\n",
       " 0.9300000071525574,\n",
       " 0.9275000095367432,\n",
       " 0.9333333373069763,\n",
       " 0.934583306312561,\n",
       " 0.9320833086967468,\n",
       " 0.9333333373069763,\n",
       " 0.9350000023841858,\n",
       " 0.9379166960716248,\n",
       " 0.9354166388511658,\n",
       " 0.9399999976158142,\n",
       " 0.9424999952316284,\n",
       " 0.9416666626930237,\n",
       " 0.9412500262260437,\n",
       " 0.9429166913032532,\n",
       " 0.9458333253860474,\n",
       " 0.9441666603088379,\n",
       " 0.9466666579246521,\n",
       " 0.949999988079071,\n",
       " 0.9491666555404663,\n",
       " 0.9483333230018616,\n",
       " 0.9512500166893005,\n",
       " 0.9541666507720947,\n",
       " 0.9541666507720947,\n",
       " 0.9554166793823242,\n",
       " 0.95333331823349,\n",
       " 0.9545833468437195,\n",
       " 0.9574999809265137,\n",
       " 0.9574999809265137,\n",
       " 0.9579166769981384,\n",
       " 0.9583333134651184,\n",
       " 0.9604166746139526,\n",
       " 0.9624999761581421,\n",
       " 0.9620833396911621,\n",
       " 0.9629166722297668,\n",
       " 0.9637500047683716,\n",
       " 0.965833306312561,\n",
       " 0.965833306312561,\n",
       " 0.9666666388511658,\n",
       " 0.9691666960716248,\n",
       " 0.9704166650772095,\n",
       " 0.9695833325386047,\n",
       " 0.9704166650772095,\n",
       " 0.971666693687439,\n",
       " 0.971666693687439,\n",
       " 0.971666693687439,\n",
       " 0.972083330154419,\n",
       " 0.9704166650772095,\n",
       " 0.9745833277702332,\n",
       " 0.9741666913032532,\n",
       " 0.9741666913032532,\n",
       " 0.9737499952316284,\n",
       " 0.9725000262260437,\n",
       " 0.972083330154419,\n",
       " 0.9737499952316284,\n",
       " 0.9770833253860474,\n",
       " 0.9750000238418579,\n",
       " 0.9770833253860474,\n",
       " 0.9783333539962769,\n",
       " 0.981249988079071,\n",
       " 0.9787499904632568,\n",
       " 0.9758333563804626,\n",
       " 0.981249988079071,\n",
       " 0.9804166555404663,\n",
       " 0.9800000190734863,\n",
       " 0.9783333539962769,\n",
       " 0.9816666841506958,\n",
       " 0.9825000166893005,\n",
       " 0.9829166531562805,\n",
       " 0.9833333492279053]"
      ]
     },
     "execution_count": 46,
     "metadata": {},
     "output_type": "execute_result"
    }
   ],
   "source": [
    "history.history['accuracy']"
   ]
  },
  {
   "cell_type": "code",
   "execution_count": 52,
   "metadata": {},
   "outputs": [
    {
     "data": {
      "text/plain": [
       "<matplotlib.legend.Legend at 0x16f62d23700>"
      ]
     },
     "execution_count": 52,
     "metadata": {},
     "output_type": "execute_result"
    },
    {
     "data": {
      "image/png": "[encoded data removed]",
      "text/plain": [
       "<Figure size 720x720 with 1 Axes>"
      ]
     },
     "metadata": {},
     "output_type": "display_data"
    }
   ],
   "source": [
    "plt.figure(figsize=(10,10))\n",
    "plt.subplot(2,1,1)\n",
    "plt.plot(history.history['accuracy'])\n",
    "plt.plot(history.history['val_accuracy'])\n",
    "plt.title('model accuracy')\n",
    "plt.ylabel('accuracy')\n",
    "plt.xlabel('epoch')\n",
    "plt.legend(['train', 'test'], loc='lower right')"
   ]
  },
  {
   "cell_type": "code",
   "execution_count": 53,
   "metadata": {},
   "outputs": [
    {
     "data": {
      "text/plain": [
       "<matplotlib.legend.Legend at 0x16f63ed9a00>"
      ]
     },
     "execution_count": 53,
     "metadata": {},
     "output_type": "execute_result"
    },
    {
     "data": {
      "image/png": "[encoded data removed]",
      "text/plain": [
       "<Figure size 720x720 with 1 Axes>"
      ]
     },
     "metadata": {},
     "output_type": "display_data"
    }
   ],
   "source": [
    "plt.figure(figsize=(10,10))\n",
    "plt.subplot(2,1,1)\n",
    "plt.plot(history.history['loss'])\n",
    "plt.plot(history.history['val_loss'])\n",
    "plt.title('model loss')\n",
    "plt.ylabel('loss')\n",
    "plt.xlabel('epoch')\n",
    "plt.legend(['train', 'test'], loc='lower right')"
   ]
  },
  {
   "cell_type": "code",
   "execution_count": null,
   "metadata": {},
   "outputs": [],
   "source": []
  }
 ],
 "metadata": {
  "kernelspec": {
   "display_name": "Python 3.9.12 ('base')",
   "language": "python",
   "name": "python3"
  },
  "language_info": {
   "codemirror_mode": {
    "name": "ipython",
    "version": 3
   },
   "file_extension": ".py",
   "mimetype": "text/x-python",
   "name": "python",
   "nbconvert_exporter": "python",
   "pygments_lexer": "ipython3",
   "version": "3.9.12"
  },
  "orig_nbformat": 4,
  "vscode": {
   "interpreter": {
    "hash": "23bf0724a01b6ea9814e66f76182ea78c0ee849a72ca257c0e116bf83bb4960a"
   }
  }
 },
 "nbformat": 4,
 "nbformat_minor": 2
}
